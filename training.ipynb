{
 "cells": [
  {
   "cell_type": "code",
   "execution_count": 1,
   "metadata": {},
   "outputs": [
    {
     "data": {
      "text/plain": [
       "(45109, 3)"
      ]
     },
     "execution_count": 1,
     "metadata": {},
     "output_type": "execute_result"
    }
   ],
   "source": [
    "import pandas as pd\n",
    "r=pd.read_csv(\"dataset.csv\")\n",
    "r.shape"
   ]
  },
  {
   "cell_type": "code",
   "execution_count": 2,
   "metadata": {},
   "outputs": [
    {
     "data": {
      "text/plain": [
       "title        168\n",
       "text          83\n",
       "True/Fake     83\n",
       "dtype: int64"
      ]
     },
     "execution_count": 2,
     "metadata": {},
     "output_type": "execute_result"
    }
   ],
   "source": [
    "r.isnull().sum()"
   ]
  },
  {
   "cell_type": "code",
   "execution_count": 3,
   "metadata": {},
   "outputs": [],
   "source": [
    "import numpy as np\n",
    "import re\n",
    "from nltk.corpus import stopwords\n",
    "from nltk.stem.porter import PorterStemmer\n",
    "from sklearn.feature_extraction.text import TfidfVectorizer\n",
    "from sklearn.model_selection import train_test_split\n",
    "from sklearn.linear_model import LogisticRegression\n",
    "from sklearn.metrics import accuracy_score"
   ]
  },
  {
   "cell_type": "code",
   "execution_count": 4,
   "metadata": {},
   "outputs": [
    {
     "name": "stderr",
     "output_type": "stream",
     "text": [
      "[nltk_data] Downloading package stopwords to\n",
      "[nltk_data]     C:\\Users\\willi\\AppData\\Roaming\\nltk_data...\n",
      "[nltk_data]   Package stopwords is already up-to-date!\n"
     ]
    },
    {
     "data": {
      "text/plain": [
       "True"
      ]
     },
     "execution_count": 4,
     "metadata": {},
     "output_type": "execute_result"
    }
   ],
   "source": [
    "import nltk\n",
    "nltk.download(\"stopwords\")"
   ]
  },
  {
   "cell_type": "code",
   "execution_count": 5,
   "metadata": {},
   "outputs": [],
   "source": [
    "news_dataset=pd.read_csv(\"dataset.csv\")"
   ]
  },
  {
   "cell_type": "code",
   "execution_count": 6,
   "metadata": {},
   "outputs": [
    {
     "data": {
      "text/plain": [
       "title        168\n",
       "text          83\n",
       "True/Fake     83\n",
       "dtype: int64"
      ]
     },
     "execution_count": 6,
     "metadata": {},
     "output_type": "execute_result"
    }
   ],
   "source": [
    "news_dataset.isnull().sum()"
   ]
  },
  {
   "cell_type": "code",
   "execution_count": 7,
   "metadata": {},
   "outputs": [],
   "source": [
    "news_dataset=news_dataset.dropna()\n",
    "news_dataset=news_dataset.reset_index(drop=True)"
   ]
  },
  {
   "cell_type": "code",
   "execution_count": 8,
   "metadata": {},
   "outputs": [
    {
     "data": {
      "text/plain": [
       "title        0\n",
       "text         0\n",
       "True/Fake    0\n",
       "content      0\n",
       "dtype: int64"
      ]
     },
     "execution_count": 8,
     "metadata": {},
     "output_type": "execute_result"
    }
   ],
   "source": [
    "news_dataset[\"content\"]=news_dataset[\"title\"]+\" \"+news_dataset[\"text\"]\n",
    "news_dataset.isnull().sum()"
   ]
  },
  {
   "cell_type": "code",
   "execution_count": 9,
   "metadata": {},
   "outputs": [],
   "source": [
    "X=news_dataset.drop(columns=\"True/Fake\",axis=1)\n",
    "Y=news_dataset[\"True/Fake\"]"
   ]
  },
  {
   "cell_type": "code",
   "execution_count": 10,
   "metadata": {},
   "outputs": [
    {
     "data": {
      "text/html": [
       "<div>\n",
       "<style scoped>\n",
       "    .dataframe tbody tr th:only-of-type {\n",
       "        vertical-align: middle;\n",
       "    }\n",
       "\n",
       "    .dataframe tbody tr th {\n",
       "        vertical-align: top;\n",
       "    }\n",
       "\n",
       "    .dataframe thead th {\n",
       "        text-align: right;\n",
       "    }\n",
       "</style>\n",
       "<table border=\"1\" class=\"dataframe\">\n",
       "  <thead>\n",
       "    <tr style=\"text-align: right;\">\n",
       "      <th></th>\n",
       "      <th>title</th>\n",
       "      <th>text</th>\n",
       "      <th>content</th>\n",
       "    </tr>\n",
       "  </thead>\n",
       "  <tbody>\n",
       "    <tr>\n",
       "      <th>0</th>\n",
       "      <td>Donald Trump Sends Out Embarrassing New Year’...</td>\n",
       "      <td>Donald Trump just couldn t wish all Americans ...</td>\n",
       "      <td>Donald Trump Sends Out Embarrassing New Year’...</td>\n",
       "    </tr>\n",
       "    <tr>\n",
       "      <th>1</th>\n",
       "      <td>Drunk Bragging Trump Staffer Started Russian ...</td>\n",
       "      <td>House Intelligence Committee Chairman Devin Nu...</td>\n",
       "      <td>Drunk Bragging Trump Staffer Started Russian ...</td>\n",
       "    </tr>\n",
       "    <tr>\n",
       "      <th>2</th>\n",
       "      <td>Sheriff David Clarke Becomes An Internet Joke...</td>\n",
       "      <td>On Friday, it was revealed that former Milwauk...</td>\n",
       "      <td>Sheriff David Clarke Becomes An Internet Joke...</td>\n",
       "    </tr>\n",
       "    <tr>\n",
       "      <th>3</th>\n",
       "      <td>Trump Is So Obsessed He Even Has Obama’s Name...</td>\n",
       "      <td>On Christmas day, Donald Trump announced that ...</td>\n",
       "      <td>Trump Is So Obsessed He Even Has Obama’s Name...</td>\n",
       "    </tr>\n",
       "    <tr>\n",
       "      <th>4</th>\n",
       "      <td>Pope Francis Just Called Out Donald Trump Dur...</td>\n",
       "      <td>Pope Francis used his annual Christmas Day mes...</td>\n",
       "      <td>Pope Francis Just Called Out Donald Trump Dur...</td>\n",
       "    </tr>\n",
       "    <tr>\n",
       "      <th>...</th>\n",
       "      <td>...</td>\n",
       "      <td>...</td>\n",
       "      <td>...</td>\n",
       "    </tr>\n",
       "    <tr>\n",
       "      <th>44915</th>\n",
       "      <td>'Fully committed' NATO backs new U.S. approach...</td>\n",
       "      <td>BRUSSELS (Reuters) - NATO allies on Tuesday we...</td>\n",
       "      <td>'Fully committed' NATO backs new U.S. approach...</td>\n",
       "    </tr>\n",
       "    <tr>\n",
       "      <th>44916</th>\n",
       "      <td>LexisNexis withdrew two products from Chinese ...</td>\n",
       "      <td>LONDON (Reuters) - LexisNexis, a provider of l...</td>\n",
       "      <td>LexisNexis withdrew two products from Chinese ...</td>\n",
       "    </tr>\n",
       "    <tr>\n",
       "      <th>44917</th>\n",
       "      <td>Minsk cultural hub becomes haven from authorities</td>\n",
       "      <td>MINSK (Reuters) - In the shadow of disused Sov...</td>\n",
       "      <td>Minsk cultural hub becomes haven from authorit...</td>\n",
       "    </tr>\n",
       "    <tr>\n",
       "      <th>44918</th>\n",
       "      <td>Vatican upbeat on possibility of Pope Francis ...</td>\n",
       "      <td>MOSCOW (Reuters) - Vatican Secretary of State ...</td>\n",
       "      <td>Vatican upbeat on possibility of Pope Francis ...</td>\n",
       "    </tr>\n",
       "    <tr>\n",
       "      <th>44919</th>\n",
       "      <td>Indonesia to buy $1.14 billion worth of Russia...</td>\n",
       "      <td>JAKARTA (Reuters) - Indonesia will buy 11 Sukh...</td>\n",
       "      <td>Indonesia to buy $1.14 billion worth of Russia...</td>\n",
       "    </tr>\n",
       "  </tbody>\n",
       "</table>\n",
       "<p>44920 rows × 3 columns</p>\n",
       "</div>"
      ],
      "text/plain": [
       "                                                   title  \\\n",
       "0       Donald Trump Sends Out Embarrassing New Year’...   \n",
       "1       Drunk Bragging Trump Staffer Started Russian ...   \n",
       "2       Sheriff David Clarke Becomes An Internet Joke...   \n",
       "3       Trump Is So Obsessed He Even Has Obama’s Name...   \n",
       "4       Pope Francis Just Called Out Donald Trump Dur...   \n",
       "...                                                  ...   \n",
       "44915  'Fully committed' NATO backs new U.S. approach...   \n",
       "44916  LexisNexis withdrew two products from Chinese ...   \n",
       "44917  Minsk cultural hub becomes haven from authorities   \n",
       "44918  Vatican upbeat on possibility of Pope Francis ...   \n",
       "44919  Indonesia to buy $1.14 billion worth of Russia...   \n",
       "\n",
       "                                                    text  \\\n",
       "0      Donald Trump just couldn t wish all Americans ...   \n",
       "1      House Intelligence Committee Chairman Devin Nu...   \n",
       "2      On Friday, it was revealed that former Milwauk...   \n",
       "3      On Christmas day, Donald Trump announced that ...   \n",
       "4      Pope Francis used his annual Christmas Day mes...   \n",
       "...                                                  ...   \n",
       "44915  BRUSSELS (Reuters) - NATO allies on Tuesday we...   \n",
       "44916  LONDON (Reuters) - LexisNexis, a provider of l...   \n",
       "44917  MINSK (Reuters) - In the shadow of disused Sov...   \n",
       "44918  MOSCOW (Reuters) - Vatican Secretary of State ...   \n",
       "44919  JAKARTA (Reuters) - Indonesia will buy 11 Sukh...   \n",
       "\n",
       "                                                 content  \n",
       "0       Donald Trump Sends Out Embarrassing New Year’...  \n",
       "1       Drunk Bragging Trump Staffer Started Russian ...  \n",
       "2       Sheriff David Clarke Becomes An Internet Joke...  \n",
       "3       Trump Is So Obsessed He Even Has Obama’s Name...  \n",
       "4       Pope Francis Just Called Out Donald Trump Dur...  \n",
       "...                                                  ...  \n",
       "44915  'Fully committed' NATO backs new U.S. approach...  \n",
       "44916  LexisNexis withdrew two products from Chinese ...  \n",
       "44917  Minsk cultural hub becomes haven from authorit...  \n",
       "44918  Vatican upbeat on possibility of Pope Francis ...  \n",
       "44919  Indonesia to buy $1.14 billion worth of Russia...  \n",
       "\n",
       "[44920 rows x 3 columns]"
      ]
     },
     "execution_count": 10,
     "metadata": {},
     "output_type": "execute_result"
    }
   ],
   "source": [
    "X"
   ]
  },
  {
   "cell_type": "code",
   "execution_count": 11,
   "metadata": {},
   "outputs": [],
   "source": [
    "port_stem=PorterStemmer()"
   ]
  },
  {
   "cell_type": "code",
   "execution_count": 12,
   "metadata": {},
   "outputs": [],
   "source": [
    "stop_words=stopwords.words(\"english\")\n",
    "stop_words.extend([\"washington\",\"reuters\",\"reuter\",\"newyork\",\"new\",\"york\",\"century\",\"st\",\"pittsburgh\",\"berlin\",\"moscow\",\"paris\",\"miami\",\"geneva\"])"
   ]
  },
  {
   "cell_type": "code",
   "execution_count": 13,
   "metadata": {},
   "outputs": [],
   "source": [
    "def stemming(content):\n",
    "    stemmed_content=re.sub(\"[^a-zA-Z]\",\" \",content)\n",
    "    stemmed_content=stemmed_content.lower()\n",
    "    stemmed_content=stemmed_content.split()\n",
    "    stemmed_content=[port_stem.stem(word) for word in stemmed_content if not word in stop_words]\n",
    "    return stemmed_content"
   ]
  },
  {
   "cell_type": "code",
   "execution_count": 14,
   "metadata": {},
   "outputs": [
    {
     "data": {
      "text/plain": [
       "0        [donald, trump, send, embarrass, year, eve, me...\n",
       "1        [drunk, brag, trump, staffer, start, russian, ...\n",
       "2        [sheriff, david, clark, becom, internet, joke,...\n",
       "3        [trump, obsess, even, obama, name, code, websi...\n",
       "4        [pope, franci, call, donald, trump, christma, ...\n",
       "                               ...                        \n",
       "44915    [fulli, commit, nato, back, u, approach, afgha...\n",
       "44916    [lexisnexi, withdrew, two, product, chines, ma...\n",
       "44917    [minsk, cultur, hub, becom, author, minsk, sha...\n",
       "44918    [vatican, upbeat, possibl, pope, franci, visit...\n",
       "44919    [indonesia, buy, billion, worth, russian, jet,...\n",
       "Name: content, Length: 44920, dtype: object"
      ]
     },
     "execution_count": 14,
     "metadata": {},
     "output_type": "execute_result"
    }
   ],
   "source": [
    "news_dataset[\"content\"]=news_dataset[\"content\"].apply(stemming)\n",
    "news_dataset[\"content\"]"
   ]
  },
  {
   "cell_type": "code",
   "execution_count": 15,
   "metadata": {},
   "outputs": [],
   "source": [
    "def joining(content):\n",
    "    return \" \".join(content)"
   ]
  },
  {
   "cell_type": "code",
   "execution_count": 16,
   "metadata": {},
   "outputs": [],
   "source": [
    "news_dataset[\"content\"]=news_dataset[\"content\"].apply(joining)"
   ]
  },
  {
   "cell_type": "code",
   "execution_count": 17,
   "metadata": {},
   "outputs": [],
   "source": [
    "X=news_dataset[\"content\"].values\n",
    "Y=news_dataset[\"True/Fake\"].values"
   ]
  },
  {
   "cell_type": "code",
   "execution_count": 18,
   "metadata": {},
   "outputs": [
    {
     "name": "stdout",
     "output_type": "stream",
     "text": [
      "<class 'numpy.ndarray'>\n"
     ]
    }
   ],
   "source": [
    "print(type(X))"
   ]
  },
  {
   "cell_type": "code",
   "execution_count": 19,
   "metadata": {},
   "outputs": [],
   "source": [
    "vectorizer=TfidfVectorizer()\n",
    "vectorizer.fit(X)\n",
    "X=vectorizer.transform(X)"
   ]
  },
  {
   "cell_type": "code",
   "execution_count": 20,
   "metadata": {},
   "outputs": [
    {
     "name": "stdout",
     "output_type": "stream",
     "text": [
      "  (0, 87655)\t0.2849973051978616\n",
      "  (0, 87578)\t0.0872404686195455\n",
      "  (0, 86508)\t0.03195198732690001\n",
      "  (0, 86352)\t0.027523159663329428\n",
      "  (0, 86270)\t0.01899589333111678\n",
      "  (0, 86256)\t0.02749092763801655\n",
      "  (0, 86172)\t0.0349500324394868\n",
      "  (0, 85849)\t0.18790263699857557\n",
      "  (0, 84979)\t0.026892994234100052\n",
      "  (0, 84968)\t0.09057312405581629\n",
      "  (0, 84957)\t0.06146877671523429\n",
      "  (0, 84929)\t0.09057312405581629\n",
      "  (0, 84286)\t0.03742856201005655\n",
      "  (0, 83725)\t0.021532642932793295\n",
      "  (0, 82071)\t0.037937564862327064\n",
      "  (0, 80015)\t0.02309467585160063\n",
      "  (0, 79955)\t0.11085349217485455\n",
      "  (0, 79278)\t0.13825751500942496\n",
      "  (0, 77286)\t0.020741025178769253\n",
      "  (0, 76912)\t0.09057312405581629\n",
      "  (0, 76859)\t0.057198963857658616\n",
      "  (0, 76594)\t0.02678896173108323\n",
      "  (0, 76350)\t0.04540689153610868\n",
      "  (0, 75708)\t0.022326851713793814\n",
      "  (0, 75686)\t0.0872404686195455\n",
      "  :\t:\n",
      "  (44919, 16712)\t0.04491433613356423\n",
      "  (44919, 16656)\t0.040458617562357566\n",
      "  (44919, 15778)\t0.055812940707157144\n",
      "  (44919, 15713)\t0.0274555455157659\n",
      "  (44919, 15413)\t0.05235579840218337\n",
      "  (44919, 15270)\t0.0885548340957186\n",
      "  (44919, 15092)\t0.09197766115587962\n",
      "  (44919, 14841)\t0.04200784410065841\n",
      "  (44919, 14797)\t0.2563246087988092\n",
      "  (44919, 14447)\t0.08442564612556215\n",
      "  (44919, 11695)\t0.12497710516764551\n",
      "  (44919, 10777)\t0.0582651339021834\n",
      "  (44919, 10588)\t0.10832218454006447\n",
      "  (44919, 7668)\t0.09135833407399774\n",
      "  (44919, 7621)\t0.06996449416582849\n",
      "  (44919, 4942)\t0.16724929517549714\n",
      "  (44919, 4272)\t0.06657671185626668\n",
      "  (44919, 4270)\t0.061107636200131335\n",
      "  (44919, 2683)\t0.041143749891999974\n",
      "  (44919, 2614)\t0.05694286171451705\n",
      "  (44919, 2290)\t0.024128116007034323\n",
      "  (44919, 1474)\t0.04687467480121355\n",
      "  (44919, 1186)\t0.055599788913163556\n",
      "  (44919, 720)\t0.048414274934900324\n",
      "  (44919, 473)\t0.07578563945601201\n"
     ]
    }
   ],
   "source": [
    "print(X)"
   ]
  },
  {
   "cell_type": "code",
   "execution_count": 21,
   "metadata": {},
   "outputs": [],
   "source": [
    "X_train,X_test,Y_train,Y_test=train_test_split(X,Y,test_size=0.2,stratify=Y,random_state=2)"
   ]
  },
  {
   "cell_type": "code",
   "execution_count": 22,
   "metadata": {},
   "outputs": [],
   "source": [
    "model=LogisticRegression()"
   ]
  },
  {
   "cell_type": "code",
   "execution_count": 23,
   "metadata": {},
   "outputs": [
    {
     "data": {
      "text/plain": [
       "LogisticRegression()"
      ]
     },
     "execution_count": 23,
     "metadata": {},
     "output_type": "execute_result"
    }
   ],
   "source": [
    "model.fit(X_train,Y_train)"
   ]
  },
  {
   "cell_type": "code",
   "execution_count": 24,
   "metadata": {},
   "outputs": [],
   "source": [
    "x_train_prediction=model.predict(X_train)\n",
    "training_data_accuracy=accuracy_score(x_train_prediction,Y_train)"
   ]
  },
  {
   "cell_type": "code",
   "execution_count": 25,
   "metadata": {},
   "outputs": [
    {
     "name": "stdout",
     "output_type": "stream",
     "text": [
      "0.9878673196794301\n"
     ]
    }
   ],
   "source": [
    "print(training_data_accuracy)"
   ]
  },
  {
   "cell_type": "code",
   "execution_count": 26,
   "metadata": {},
   "outputs": [
    {
     "name": "stdout",
     "output_type": "stream",
     "text": [
      "0.9790739091718611\n"
     ]
    }
   ],
   "source": [
    "x_test_prediction=model.predict(X_test)\n",
    "test_data_accuracy=accuracy_score(x_test_prediction,Y_test)\n",
    "print(test_data_accuracy)"
   ]
  },
  {
   "cell_type": "code",
   "execution_count": 27,
   "metadata": {},
   "outputs": [],
   "source": [
    "class Predictor():\n",
    "    def predict(news):\n",
    "        stemmed=stemming(news)\n",
    "        stemmed=joining(stemmed)\n",
    "        print(type(stemmed))\n",
    "        stemmed=vectorizer.transform([stemmed])\n",
    "        return model.predict(stemmed)\n",
    "prediction=Predictor()\n"
   ]
  },
  {
   "cell_type": "code",
   "execution_count": 28,
   "metadata": {},
   "outputs": [
    {
     "name": "stdout",
     "output_type": "stream",
     "text": [
      "<class 'str'>\n"
     ]
    },
    {
     "data": {
      "text/plain": [
       "array([0.])"
      ]
     },
     "execution_count": 28,
     "metadata": {},
     "output_type": "execute_result"
    }
   ],
   "source": [
    "Predictor.predict(\"Leo must be drinking the climate change Kool-Aid:  It is the most existential human crisis that the world has ever known, in my opinion. Fresh from filming The Revenant, DiCaprio and the film s director Alejandro I rritu recounted how they experienced the devastating affects of climate change on location in Argentina in the nine months that it took to make the movie. Yep, he really believes all this bs. This would all be funny except for the fact that DiCaprio is head of a multimillion-dollar environmental lobby group, the Leonardo DiCaprio Foundation, and a producer of documentaries on climate change.DiCaprio just gave $15 million to environmental causes last year.Here he s pictured with the commie head of the UN: \")"
   ]
  },
  {
   "cell_type": "code",
   "execution_count": 29,
   "metadata": {},
   "outputs": [],
   "source": [
    "import pickle\n",
    "pickle.dump(model,open(\"model.pkl\",\"wb\"))\n",
    "pickle.dump(vectorizer,open(\"vectorizer.pkl\",\"wb\"))"
   ]
  },
  {
   "cell_type": "code",
   "execution_count": 30,
   "metadata": {},
   "outputs": [],
   "source": [
    "loaded=pickle.load(open(\"model.pkl\",\"rb\"))"
   ]
  },
  {
   "cell_type": "code",
   "execution_count": 31,
   "metadata": {},
   "outputs": [],
   "source": [
    "def predictor1(news):\n",
    "    a=loaded.stemming(news)\n",
    "    a=loaded.joining(a)\n",
    "    a=loaded.vectorizer.transform([a])"
   ]
  }
 ],
 "metadata": {
  "interpreter": {
   "hash": "adc9bb8b32507af041d48f79beff297e5596f2d08c3fa998d68427d7acb13fb8"
  },
  "kernelspec": {
   "display_name": "Python 3.9.7 64-bit",
   "language": "python",
   "name": "python3"
  },
  "language_info": {
   "codemirror_mode": {
    "name": "ipython",
    "version": 3
   },
   "file_extension": ".py",
   "mimetype": "text/x-python",
   "name": "python",
   "nbconvert_exporter": "python",
   "pygments_lexer": "ipython3",
   "version": "3.9.7"
  },
  "orig_nbformat": 4
 },
 "nbformat": 4,
 "nbformat_minor": 2
}
